{
 "cells": [
  {
   "cell_type": "code",
   "execution_count": 29,
   "id": "52d64c92",
   "metadata": {},
   "outputs": [],
   "source": [
    "import numpy as np\n",
    "import matplotlib.pyplot as plt\n",
    "plt.rcParams['figure.figsize'] = [16, 12]\n",
    "plt.rcParams.update({'font.size': 18})\n",
    "\n",
    "from scipy.optimize import minimize\n",
    "from sklearn import linear_model\n",
    "\n",
    "\n",
    "\n",
    "#load in mnist dataset\n",
    "\n",
    "        #test images and labels:\n",
    "import gzip \n",
    "\n",
    "f=gzip.open('t10k-labels-idx1-ubyte.gz','rb') \n",
    "\n",
    "label=f.read()\n",
    "\n",
    "testlbl=[0]*10000\n",
    "for i in range(10000):\n",
    "    testlbl[i]=label[i+8]\n",
    "\n",
    "\n",
    "with gzip.open('t10k-images-idx3-ubyte.gz','r') as f:\n",
    "   image_size = 28\n",
    "   num_images = 10000\n",
    "   f.read(16)\n",
    "   buffer = f.read(image_size * image_size * num_images)\n",
    "   test = np.frombuffer(buffer, dtype=np.uint8).astype(np.float32)\n",
    "   test = test.reshape(num_images, image_size, image_size, 1)\n",
    "\n",
    "####################################################################\n",
    "        #training images and labels:\n",
    "    \n",
    "f=gzip.open('train-labels-idx1-ubyte.gz','rb') \n",
    "\n",
    "trainlabel=f.read()\n",
    "\n",
    "trainlbl=[0]*60000\n",
    "for i in range(60000):\n",
    "    trainlbl[i]=trainlabel[i+8]\n",
    "\n",
    "\n",
    "with gzip.open('train-images-idx3-ubyte.gz','r') as f:\n",
    "   image_size = 28\n",
    "   num_images = 60000\n",
    "   f.read(16)\n",
    "   buffer = f.read(image_size * image_size * num_images)\n",
    "   train = np.frombuffer(buffer, dtype=np.uint8).astype(np.float32)\n",
    "   train = train.reshape(num_images, image_size, image_size, 1)\n",
    "\n"
   ]
  },
  {
   "cell_type": "code",
   "execution_count": 40,
   "id": "ab3e05c2",
   "metadata": {},
   "outputs": [],
   "source": [
    "m=28"
   ]
  },
  {
   "cell_type": "code",
   "execution_count": 55,
   "id": "b3010d91",
   "metadata": {},
   "outputs": [],
   "source": [
    "#turn entries in labels into 10x1 vectors and create B matrix using m of the 10 dimensional vectors as columns\n",
    "B = np.zeros([m,10])\n",
    "\n",
    "for i in range(m):\n",
    "    if int(trainlbl[i]) == 0:\n",
    "        B[i][9]=1\n",
    "    if trainlbl[i] > 0:\n",
    "        B[i][trainlbl[i]] = 1\n",
    "   \n",
    "\n",
    "#Create X matrix\n",
    "X = []\n",
    "for i in range(m):\n",
    "      X.append(train[i].reshape(784))\n"
   ]
  },
  {
   "cell_type": "code",
   "execution_count": 76,
   "id": "4789474c",
   "metadata": {},
   "outputs": [
    {
     "name": "stdout",
     "output_type": "stream",
     "text": [
      "So our percent of success is 7\n"
     ]
    }
   ],
   "source": [
    "#Now we try to find a transform between the image space and label space. We start with regular inverse approximation:\n",
    "A=np.linalg.pinv(X)@B\n",
    "\n",
    "\n",
    "#Now we test A on some test images and record the results:\n",
    "b=[]\n",
    "for i in range(100):\n",
    "    b.append(test[i].reshape(784)@A)\n",
    "\n",
    "#Lets take the biggest entry in each b[i] and see if its index matches testlbl[i] :\n",
    "\n",
    "results=[0]*100\n",
    "for i in range(100):\n",
    "    maxindice =[b[i][0],1]\n",
    "    for j in range(10):\n",
    "        if b[i][j] > maxindice[0]:\n",
    "            maxindice =[b[i][j],(j+1)%10]\n",
    "    if testlbl[i]==maxindice[1]:\n",
    "        results[i]=1\n",
    "\n",
    "print('So our percent of success is', sum(results))\n",
    "        \n"
   ]
  },
  {
   "cell_type": "markdown",
   "id": "7d2a9ed7",
   "metadata": {},
   "source": [
    "Thus we can conclude that the pinv method is nowhere near sufficent for this problem. We will try the elastic net model next"
   ]
  },
  {
   "cell_type": "code",
   "execution_count": 84,
   "id": "582f1a05",
   "metadata": {},
   "outputs": [
    {
     "name": "stderr",
     "output_type": "stream",
     "text": [
      "C:\\Users\\Danii\\anaconda3\\lib\\site-packages\\sklearn\\linear_model\\_coordinate_descent.py:530: ConvergenceWarning: Objective did not converge. You might want to increase the number of iterations. Duality gap: 0.0, tolerance: 0.0\n",
      "  model = cd_fast.enet_coordinate_descent(\n"
     ]
    },
    {
     "name": "stdout",
     "output_type": "stream",
     "text": [
      "So our percent of success is 6\n"
     ]
    }
   ],
   "source": [
    "lam=0.1\n",
    "regr2 = linear_model.ElasticNet(alpha=1.0, copy_X=True, l1_ratio=lam, max_iter=10**5,random_state=0)\n",
    "regr2.fit(X, B) \n",
    "A = regr2.coef_\n",
    "\n",
    "\n",
    "#Now we test A on some test images and record the results:\n",
    "b=[]\n",
    "for i in range(100):\n",
    "    b.append(A@test[i].reshape(784))\n",
    "\n",
    "    \n",
    "\n",
    "#Lets take the biggest entry in each b[i] and see if its index matches testlbl[i] :\n",
    "results=[0]*100\n",
    "for i in range(100):\n",
    "    maxindice =[b[i][0],1]\n",
    "    for j in range(10):\n",
    "        if b[i][j] > maxindice[0]:\n",
    "            maxindice =[b[i][j],(j+1)%10]\n",
    "    if testlbl[i]==maxindice[1]:\n",
    "        results[i]=1\n",
    "\n",
    "print('So our percent of success is', sum(results))\n"
   ]
  },
  {
   "cell_type": "markdown",
   "id": "81173057",
   "metadata": {},
   "source": [
    "Elastic Net also seems to not be working very well."
   ]
  },
  {
   "cell_type": "code",
   "execution_count": null,
   "id": "36c401a6",
   "metadata": {},
   "outputs": [],
   "source": []
  },
  {
   "cell_type": "code",
   "execution_count": null,
   "id": "d50287b4",
   "metadata": {},
   "outputs": [],
   "source": []
  },
  {
   "cell_type": "code",
   "execution_count": null,
   "id": "83e8172f",
   "metadata": {},
   "outputs": [],
   "source": []
  },
  {
   "cell_type": "code",
   "execution_count": null,
   "id": "63fc9103",
   "metadata": {},
   "outputs": [],
   "source": []
  },
  {
   "cell_type": "code",
   "execution_count": null,
   "id": "93ee7c5b",
   "metadata": {},
   "outputs": [],
   "source": []
  },
  {
   "cell_type": "code",
   "execution_count": null,
   "id": "179616b6",
   "metadata": {},
   "outputs": [],
   "source": []
  },
  {
   "cell_type": "code",
   "execution_count": null,
   "id": "39e7fa4f",
   "metadata": {},
   "outputs": [],
   "source": []
  },
  {
   "cell_type": "code",
   "execution_count": 12,
   "id": "95b7c59e",
   "metadata": {},
   "outputs": [
    {
     "data": {
      "image/png": "[encoded data removed]",
      "text/plain": [
       "<Figure size 1152x864 with 1 Axes>"
      ]
     },
     "metadata": {
      "needs_background": "light"
     },
     "output_type": "display_data"
    }
   ],
   "source": [
    "\n",
    "plt.imshow(train[1], cmap=plt.get_cmap('gray'))\n",
    "plt.show()"
   ]
  },
  {
   "cell_type": "code",
   "execution_count": 5,
   "id": "ffca4e4a",
   "metadata": {},
   "outputs": [
    {
     "data": {
      "image/png": "[encoded data removed]",
      "text/plain": [
       "<Figure size 1152x864 with 1 Axes>"
      ]
     },
     "metadata": {
      "needs_background": "light"
     },
     "output_type": "display_data"
    }
   ],
   "source": [
    "plt.imshow(test[9999], cmap=plt.get_cmap('gray'))\n",
    "plt.show()"
   ]
  },
  {
   "cell_type": "code",
   "execution_count": null,
   "id": "b6ee8abe",
   "metadata": {},
   "outputs": [],
   "source": []
  },
  {
   "cell_type": "code",
   "execution_count": null,
   "id": "a91b4fcb",
   "metadata": {},
   "outputs": [],
   "source": []
  },
  {
   "cell_type": "code",
   "execution_count": null,
   "id": "16d655ff",
   "metadata": {},
   "outputs": [],
   "source": []
  }
 ],
 "metadata": {
  "kernelspec": {
   "display_name": "Python 3 (ipykernel)",
   "language": "python",
   "name": "python3"
  },
  "language_info": {
   "codemirror_mode": {
    "name": "ipython",
    "version": 3
   },
   "file_extension": ".py",
   "mimetype": "text/x-python",
   "name": "python",
   "nbconvert_exporter": "python",
   "pygments_lexer": "ipython3",
   "version": "3.9.7"
  }
 },
 "nbformat": 4,
 "nbformat_minor": 5
}
